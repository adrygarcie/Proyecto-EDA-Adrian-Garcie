{
 "cells": [
  {
   "cell_type": "code",
   "execution_count": 72,
   "metadata": {},
   "outputs": [],
   "source": [
    "#Importamos las librerias necesarias para el etl.\n",
    "import pandas as pd\n",
    "import os\n",
    "from pathlib import Path"
   ]
  },
  {
   "cell_type": "code",
   "execution_count": 50,
   "metadata": {},
   "outputs": [
    {
     "ename": "NameError",
     "evalue": "name '__file__' is not defined",
     "output_type": "error",
     "traceback": [
      "\u001b[1;31m---------------------------------------------------------------------------\u001b[0m",
      "\u001b[1;31mNameError\u001b[0m                                 Traceback (most recent call last)",
      "Cell \u001b[1;32mIn[50], line 6\u001b[0m\n\u001b[0;32m      3\u001b[0m \u001b[38;5;28;01mimport\u001b[39;00m\u001b[38;5;250m \u001b[39m\u001b[38;5;21;01mpandas\u001b[39;00m\u001b[38;5;250m \u001b[39m\u001b[38;5;28;01mas\u001b[39;00m\u001b[38;5;250m \u001b[39m\u001b[38;5;21;01mpd\u001b[39;00m\n\u001b[0;32m      5\u001b[0m \u001b[38;5;66;03m# Obtener la ruta del archivo .py\u001b[39;00m\n\u001b[1;32m----> 6\u001b[0m current_dir \u001b[38;5;241m=\u001b[39m Path(\u001b[38;5;18;43m__file__\u001b[39;49m)\u001b[38;5;241m.\u001b[39mresolve()\u001b[38;5;241m.\u001b[39mparent\n\u001b[0;32m      8\u001b[0m \u001b[38;5;66;03m# Construir la ruta relativa al archivo CSV\u001b[39;00m\n\u001b[0;32m      9\u001b[0m csv_path \u001b[38;5;241m=\u001b[39m current_dir\u001b[38;5;241m.\u001b[39mparents[\u001b[38;5;241m1\u001b[39m] \u001b[38;5;241m/\u001b[39m \u001b[38;5;124m'\u001b[39m\u001b[38;5;124mdata\u001b[39m\u001b[38;5;124m'\u001b[39m \u001b[38;5;241m/\u001b[39m \u001b[38;5;124m'\u001b[39m\u001b[38;5;124mraw\u001b[39m\u001b[38;5;124m'\u001b[39m \u001b[38;5;241m/\u001b[39m \u001b[38;5;124m'\u001b[39m\u001b[38;5;124mscraped_earthquakes.csv\u001b[39m\u001b[38;5;124m'\u001b[39m\n",
      "\u001b[1;31mNameError\u001b[0m: name '__file__' is not defined"
     ]
    }
   ],
   "source": [
    "#Cargamos el archivo csv en un dataframe de pandas.\n",
    "\n",
    "import pandas as pd\n",
    "\n",
    "# Obtener la ruta del archivo .py\n",
    "current_dir = Path(__file__).resolve().parent\n",
    "\n",
    "# Construir la ruta relativa al archivo CSV\n",
    "csv_path = current_dir.parents[1] / 'data' / 'raw' / 'scraped_earthquakes.csv'\n",
    "\n",
    "# Leer el archivo CSV\n",
    "df = pd.read_csv(csv_path)\n",
    "\n",
    "#Mostramos las primeras filas del dataframe.\n",
    "df.head()"
   ]
  },
  {
   "cell_type": "code",
   "execution_count": 79,
   "metadata": {},
   "outputs": [],
   "source": [
    "import os\n",
    "from pathlib import Path\n",
    "import pandas as pd\n",
    "\n",
    "# Obtener la ruta del directorio actual (sin usar __file__)\n",
    "current_dir = Path(os.getcwd())  # Obtiene el directorio actual de trabajo\n",
    "\n",
    "# Construir la ruta relativa al archivo CSV\n",
    "csv_path = current_dir.parents[1] / 'data' / 'raw' / 'scraped_earthquakes.csv'\n",
    "\n",
    "# Cargar el CSV\n",
    "df = pd.read_csv(csv_path)\n",
    "\n",
    "\n",
    "\n"
   ]
  },
  {
   "cell_type": "code",
   "execution_count": 80,
   "metadata": {},
   "outputs": [
    {
     "name": "stdout",
     "output_type": "stream",
     "text": [
      "1350347\n"
     ]
    }
   ],
   "source": [
    "#mostrar la longitud de el dataframe.\n",
    "print(len(df))"
   ]
  },
  {
   "cell_type": "code",
   "execution_count": 81,
   "metadata": {},
   "outputs": [
    {
     "data": {
      "text/plain": [
       "Date & Time UTC     object\n",
       "Lat. degrees       float64\n",
       "Lon. degrees       float64\n",
       "Depth km             int64\n",
       "Region              object\n",
       "Type                object\n",
       "A/M                 object\n",
       "Magnitude          float64\n",
       "Network             object\n",
       "dtype: object"
      ]
     },
     "execution_count": 81,
     "metadata": {},
     "output_type": "execute_result"
    }
   ],
   "source": [
    "#Mostramos los tipos de datos de cada columna.\n",
    "df.dtypes\n"
   ]
  },
  {
   "cell_type": "code",
   "execution_count": 82,
   "metadata": {},
   "outputs": [
    {
     "data": {
      "text/html": [
       "<div>\n",
       "<style scoped>\n",
       "    .dataframe tbody tr th:only-of-type {\n",
       "        vertical-align: middle;\n",
       "    }\n",
       "\n",
       "    .dataframe tbody tr th {\n",
       "        vertical-align: top;\n",
       "    }\n",
       "\n",
       "    .dataframe thead th {\n",
       "        text-align: right;\n",
       "    }\n",
       "</style>\n",
       "<table border=\"1\" class=\"dataframe\">\n",
       "  <thead>\n",
       "    <tr style=\"text-align: right;\">\n",
       "      <th></th>\n",
       "      <th>Date &amp; Time UTC</th>\n",
       "      <th>Lat. degrees</th>\n",
       "      <th>Lon. degrees</th>\n",
       "      <th>Depth km</th>\n",
       "      <th>Region</th>\n",
       "      <th>Type</th>\n",
       "      <th>A/M</th>\n",
       "      <th>Magnitude</th>\n",
       "      <th>Network</th>\n",
       "    </tr>\n",
       "  </thead>\n",
       "  <tbody>\n",
       "    <tr>\n",
       "      <th>0</th>\n",
       "      <td>2025-04-01 23:59:55.800</td>\n",
       "      <td>26.467</td>\n",
       "      <td>128.814</td>\n",
       "      <td>10</td>\n",
       "      <td>RYUKYU ISLANDS, JAPAN</td>\n",
       "      <td>origin</td>\n",
       "      <td>A</td>\n",
       "      <td>5.1</td>\n",
       "      <td>SC4</td>\n",
       "    </tr>\n",
       "    <tr>\n",
       "      <th>1</th>\n",
       "      <td>2025-04-01 23:59:55.000</td>\n",
       "      <td>26.210</td>\n",
       "      <td>128.630</td>\n",
       "      <td>10</td>\n",
       "      <td>RYUKYU ISLANDS, JAPAN</td>\n",
       "      <td>origin</td>\n",
       "      <td>A</td>\n",
       "      <td>5.1</td>\n",
       "      <td>BEO</td>\n",
       "    </tr>\n",
       "    <tr>\n",
       "      <th>2</th>\n",
       "      <td>2025-04-01 23:59:54.700</td>\n",
       "      <td>26.118</td>\n",
       "      <td>128.556</td>\n",
       "      <td>10</td>\n",
       "      <td>RYUKYU ISLANDS, JAPAN</td>\n",
       "      <td>origin</td>\n",
       "      <td>M</td>\n",
       "      <td>5.1</td>\n",
       "      <td>GFZ</td>\n",
       "    </tr>\n",
       "    <tr>\n",
       "      <th>3</th>\n",
       "      <td>2025-04-01 23:59:54.100</td>\n",
       "      <td>26.060</td>\n",
       "      <td>128.500</td>\n",
       "      <td>10</td>\n",
       "      <td>RYUKYU ISLANDS, JAPAN</td>\n",
       "      <td>origin</td>\n",
       "      <td>M</td>\n",
       "      <td>5.1</td>\n",
       "      <td>AUST</td>\n",
       "    </tr>\n",
       "    <tr>\n",
       "      <th>4</th>\n",
       "      <td>2025-04-01 23:59:53.700</td>\n",
       "      <td>26.020</td>\n",
       "      <td>128.510</td>\n",
       "      <td>10</td>\n",
       "      <td>RYUKYU ISLANDS, JAPAN</td>\n",
       "      <td>origin</td>\n",
       "      <td>M</td>\n",
       "      <td>5.2</td>\n",
       "      <td>GSRAS</td>\n",
       "    </tr>\n",
       "  </tbody>\n",
       "</table>\n",
       "</div>"
      ],
      "text/plain": [
       "          Date & Time UTC  Lat. degrees  Lon. degrees  Depth km  \\\n",
       "0 2025-04-01 23:59:55.800        26.467       128.814        10   \n",
       "1 2025-04-01 23:59:55.000        26.210       128.630        10   \n",
       "2 2025-04-01 23:59:54.700        26.118       128.556        10   \n",
       "3 2025-04-01 23:59:54.100        26.060       128.500        10   \n",
       "4 2025-04-01 23:59:53.700        26.020       128.510        10   \n",
       "\n",
       "                  Region    Type A/M  Magnitude Network  \n",
       "0  RYUKYU ISLANDS, JAPAN  origin   A        5.1     SC4  \n",
       "1  RYUKYU ISLANDS, JAPAN  origin   A        5.1     BEO  \n",
       "2  RYUKYU ISLANDS, JAPAN  origin   M        5.1     GFZ  \n",
       "3  RYUKYU ISLANDS, JAPAN  origin   M        5.1    AUST  \n",
       "4  RYUKYU ISLANDS, JAPAN  origin   M        5.2   GSRAS  "
      ]
     },
     "execution_count": 82,
     "metadata": {},
     "output_type": "execute_result"
    }
   ],
   "source": [
    "#convertimos la columna Date & Time UTC a un objeto datetime.\n",
    "df['Date & Time UTC'] = pd.to_datetime(df['Date & Time UTC'], format='%Y-%m-%d %H:%M:%S.%f', errors='coerce')\n",
    "\n",
    "df.head(5)"
   ]
  },
  {
   "cell_type": "code",
   "execution_count": 83,
   "metadata": {},
   "outputs": [],
   "source": [
    "# Intentamos dividir la columna 'Region' por la coma y el espacio\n",
    "split_columns = df['Region'].str.split(', ', expand=True)\n",
    "\n",
    "\n",
    "# Verificamos si la división fue exitosa\n",
    "if 1 in split_columns.columns:\n",
    "    df['Country'] = split_columns[1]\n",
    "else:\n",
    "    df['Country'] = split_columns[0]  # Si no hubo división, mantenemos el valor original en 'Country'\n",
    "\n",
    "df['Region'] = split_columns[0].fillna(df['Region'])  # Si no hubo división, mantenemos el valor original en 'Region'\n",
    "\n"
   ]
  },
  {
   "cell_type": "code",
   "execution_count": 84,
   "metadata": {},
   "outputs": [
    {
     "data": {
      "text/html": [
       "<div>\n",
       "<style scoped>\n",
       "    .dataframe tbody tr th:only-of-type {\n",
       "        vertical-align: middle;\n",
       "    }\n",
       "\n",
       "    .dataframe tbody tr th {\n",
       "        vertical-align: top;\n",
       "    }\n",
       "\n",
       "    .dataframe thead th {\n",
       "        text-align: right;\n",
       "    }\n",
       "</style>\n",
       "<table border=\"1\" class=\"dataframe\">\n",
       "  <thead>\n",
       "    <tr style=\"text-align: right;\">\n",
       "      <th></th>\n",
       "      <th>Date &amp; Time UTC</th>\n",
       "      <th>Lat. degrees</th>\n",
       "      <th>Lon. degrees</th>\n",
       "      <th>Depth km</th>\n",
       "      <th>Region</th>\n",
       "      <th>Magnitude</th>\n",
       "      <th>Country</th>\n",
       "    </tr>\n",
       "  </thead>\n",
       "  <tbody>\n",
       "    <tr>\n",
       "      <th>0</th>\n",
       "      <td>2025-04-01 23:59:55.800</td>\n",
       "      <td>26.467</td>\n",
       "      <td>128.814</td>\n",
       "      <td>10</td>\n",
       "      <td>RYUKYU ISLANDS</td>\n",
       "      <td>5.1</td>\n",
       "      <td>JAPAN</td>\n",
       "    </tr>\n",
       "    <tr>\n",
       "      <th>1</th>\n",
       "      <td>2025-04-01 23:59:55.000</td>\n",
       "      <td>26.210</td>\n",
       "      <td>128.630</td>\n",
       "      <td>10</td>\n",
       "      <td>RYUKYU ISLANDS</td>\n",
       "      <td>5.1</td>\n",
       "      <td>JAPAN</td>\n",
       "    </tr>\n",
       "    <tr>\n",
       "      <th>2</th>\n",
       "      <td>2025-04-01 23:59:54.700</td>\n",
       "      <td>26.118</td>\n",
       "      <td>128.556</td>\n",
       "      <td>10</td>\n",
       "      <td>RYUKYU ISLANDS</td>\n",
       "      <td>5.1</td>\n",
       "      <td>JAPAN</td>\n",
       "    </tr>\n",
       "    <tr>\n",
       "      <th>3</th>\n",
       "      <td>2025-04-01 23:59:54.100</td>\n",
       "      <td>26.060</td>\n",
       "      <td>128.500</td>\n",
       "      <td>10</td>\n",
       "      <td>RYUKYU ISLANDS</td>\n",
       "      <td>5.1</td>\n",
       "      <td>JAPAN</td>\n",
       "    </tr>\n",
       "    <tr>\n",
       "      <th>4</th>\n",
       "      <td>2025-04-01 23:59:53.700</td>\n",
       "      <td>26.020</td>\n",
       "      <td>128.510</td>\n",
       "      <td>10</td>\n",
       "      <td>RYUKYU ISLANDS</td>\n",
       "      <td>5.2</td>\n",
       "      <td>JAPAN</td>\n",
       "    </tr>\n",
       "  </tbody>\n",
       "</table>\n",
       "</div>"
      ],
      "text/plain": [
       "          Date & Time UTC  Lat. degrees  Lon. degrees  Depth km  \\\n",
       "0 2025-04-01 23:59:55.800        26.467       128.814        10   \n",
       "1 2025-04-01 23:59:55.000        26.210       128.630        10   \n",
       "2 2025-04-01 23:59:54.700        26.118       128.556        10   \n",
       "3 2025-04-01 23:59:54.100        26.060       128.500        10   \n",
       "4 2025-04-01 23:59:53.700        26.020       128.510        10   \n",
       "\n",
       "           Region  Magnitude Country  \n",
       "0  RYUKYU ISLANDS        5.1   JAPAN  \n",
       "1  RYUKYU ISLANDS        5.1   JAPAN  \n",
       "2  RYUKYU ISLANDS        5.1   JAPAN  \n",
       "3  RYUKYU ISLANDS        5.1   JAPAN  \n",
       "4  RYUKYU ISLANDS        5.2   JAPAN  "
      ]
     },
     "execution_count": 84,
     "metadata": {},
     "output_type": "execute_result"
    }
   ],
   "source": [
    "#Eliminamos columnas innecesarias.\n",
    "clean_df = df.drop(columns=['Type', 'Network', 'A/M'])\n",
    "clean_df.head(5)"
   ]
  }
 ],
 "metadata": {
  "kernelspec": {
   "display_name": "entorno_proyecto_1",
   "language": "python",
   "name": "python3"
  },
  "language_info": {
   "codemirror_mode": {
    "name": "ipython",
    "version": 3
   },
   "file_extension": ".py",
   "mimetype": "text/x-python",
   "name": "python",
   "nbconvert_exporter": "python",
   "pygments_lexer": "ipython3",
   "version": "3.12.9"
  }
 },
 "nbformat": 4,
 "nbformat_minor": 2
}
